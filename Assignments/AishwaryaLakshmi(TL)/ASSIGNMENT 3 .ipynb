{
 "cells": [
  {
   "cell_type": "markdown",
   "id": "f95a7f08",
   "metadata": {},
   "source": [
    "ASSIGNMENT - 3\n",
    "Assignment Date: 30 September 2022\n",
    "\n",
    "Name: AISHWARYA LAKSHMI T\n",
    "\n",
    "What is 7 to the power of 4"
   ]
  },
  {
   "cell_type": "code",
   "execution_count": 1,
   "id": "53db1b8d",
   "metadata": {},
   "outputs": [
    {
     "data": {
      "text/plain": [
       "2401"
      ]
     },
     "execution_count": 1,
     "metadata": {},
     "output_type": "execute_result"
    }
   ],
   "source": [
    "pow(7,4)\n"
   ]
  },
  {
   "cell_type": "markdown",
   "id": "73b6d85e",
   "metadata": {},
   "source": [
    "# Split this string:\n",
    "\n",
    "s = \"Hi there Sam!\"\n",
    "\n",
    "into a list."
   ]
  },
  {
   "cell_type": "code",
   "execution_count": 2,
   "id": "af2721ce",
   "metadata": {},
   "outputs": [
    {
     "data": {
      "text/plain": [
       "['Hi', 'there', 'dad!']"
      ]
     },
     "execution_count": 2,
     "metadata": {},
     "output_type": "execute_result"
    }
   ],
   "source": [
    "s = \"Hi there dad!\"\n",
    "s.split()"
   ]
  },
  {
   "cell_type": "markdown",
   "id": "cb3174f4",
   "metadata": {},
   "source": [
    "# Given the variables:\n",
    "\n",
    "planet = \"Earth\"\n",
    "diameter = 12742\n",
    "\n",
    "Use .format() to print the following string:\n",
    "\n",
    "The diameter of Earth is 12742 kilometers."
   ]
  },
  {
   "cell_type": "code",
   "execution_count": 3,
   "id": "519ae0ec",
   "metadata": {},
   "outputs": [
    {
     "name": "stdout",
     "output_type": "stream",
     "text": [
      "The diameter of Earth is 12742 kilometers.\n"
     ]
    }
   ],
   "source": [
    "planet = \"Earth\"\n",
    "diameter = 12742\n",
    "print('The diameter of {} is {} kilometers.'.format(planet,diameter))"
   ]
  },
  {
   "cell_type": "markdown",
   "id": "a5af8dc7",
   "metadata": {},
   "source": [
    "# Given this nested list, use indexing to grab the word \"hello\""
   ]
  },
  {
   "cell_type": "code",
   "execution_count": 4,
   "id": "74b31f57",
   "metadata": {},
   "outputs": [
    {
     "data": {
      "text/plain": [
       "['hello']"
      ]
     },
     "execution_count": 4,
     "metadata": {},
     "output_type": "execute_result"
    }
   ],
   "source": [
    "lst = [1,2,[3,4],[5,[100,200,['hello']],23,11],1,7]\n",
    "lst[3][1][2]"
   ]
  },
  {
   "cell_type": "markdown",
   "id": "d8ee30e6",
   "metadata": {},
   "source": [
    "# Given this nest dictionary grab the word \"hello\". Be prepared, this will be annoying/tricky "
   ]
  },
  {
   "cell_type": "code",
   "execution_count": 5,
   "id": "778116d4",
   "metadata": {},
   "outputs": [
    {
     "data": {
      "text/plain": [
       "'hello'"
      ]
     },
     "execution_count": 5,
     "metadata": {},
     "output_type": "execute_result"
    }
   ],
   "source": [
    "d = {'k1':[1,2,3,{'tricky':['oh','man','inception',{'target':[1,2,3,'hello']}]}]}\n",
    "d['k1'][3]['tricky'][3]['target'][3]"
   ]
  },
  {
   "cell_type": "markdown",
   "id": "e7508bed",
   "metadata": {},
   "source": [
    "# Create a function that grabs the email website domain from a string in the form:\n",
    "\n",
    "user@domain.com\n",
    "\n",
    "So for example, passing \"user@domain.com\" would return: domain.com\n",
    "\n"
   ]
  },
  {
   "cell_type": "code",
   "execution_count": 10,
   "id": "53f44347",
   "metadata": {},
   "outputs": [
    {
     "name": "stdout",
     "output_type": "stream",
     "text": [
      "domain.com\n"
     ]
    }
   ],
   "source": [
    "def grabDomain(email):\n",
    "  print(email.split('@')[1])\n",
    "\n",
    "grabDomain('user@domain.com')"
   ]
  },
  {
   "cell_type": "markdown",
   "id": "3159ec10",
   "metadata": {},
   "source": [
    "# What is the main difference between a tuple and a list?"
   ]
  },
  {
   "cell_type": "code",
   "execution_count": null,
   "id": "a3a59a42",
   "metadata": {},
   "outputs": [],
   "source": [
    "Tuple is immutable and static whereas List is mutable and dynamic."
   ]
  },
  {
   "cell_type": "markdown",
   "id": "304479c4",
   "metadata": {},
   "source": [
    "# Create a basic function that returns True if the word 'dog' is contained in the input string. Don't worry about edge cases like a punctuation being attached to the word dog, but do account for capitalization."
   ]
  },
  {
   "cell_type": "code",
   "execution_count": 11,
   "id": "c3f7598e",
   "metadata": {},
   "outputs": [
    {
     "data": {
      "text/plain": [
       "True"
      ]
     },
     "execution_count": 11,
     "metadata": {},
     "output_type": "execute_result"
    }
   ],
   "source": [
    "def findDog(str):\n",
    "  if 'dog' in str.lower():\n",
    "    return True\n",
    "  else:\n",
    "    return False\n",
    "\n",
    "findDog('That Dog is my pet!')"
   ]
  },
  {
   "cell_type": "markdown",
   "id": "b3441869",
   "metadata": {},
   "source": [
    "# Create a function that counts the number of times the word \"dog\" occurs in a string. Again ignore edge cases."
   ]
  },
  {
   "cell_type": "code",
   "execution_count": 12,
   "id": "bfbe853c",
   "metadata": {},
   "outputs": [
    {
     "name": "stdout",
     "output_type": "stream",
     "text": [
      "2\n"
     ]
    }
   ],
   "source": [
    "def count(str):\n",
    "  print(str.lower().count('dog'))\n",
    "\n",
    "count('That Dog is my pet. I love my dog very much!')"
   ]
  },
  {
   "cell_type": "markdown",
   "id": "57f36662",
   "metadata": {},
   "source": [
    "# Problem\n",
    "You are driving a little too fast, and a police officer stops you. Write a function to return one of 3 possible results: \"No ticket\", \"Small ticket\", or \"Big Ticket\". If your speed is 60 or less, the result is \"No Ticket\". If speed is between 61 and 80 inclusive, the result is \"Small Ticket\". If speed is 81 or more, the result is \"Big Ticket\". Unless it is your birthday (encoded as a boolean value in the parameters of the function) -- on your birthday, your speed can be 5 higher in all cases."
   ]
  },
  {
   "cell_type": "code",
   "execution_count": 14,
   "id": "0ca7b3c5",
   "metadata": {},
   "outputs": [],
   "source": [
    "def caught_speeding(speed, is_birthday):\n",
    "    \n",
    "    if is_birthday:\n",
    "        speeding = speed - 5\n",
    "    else:\n",
    "        speeding = speed\n",
    "    \n",
    "    if speeding > 80:\n",
    "        return 'Big Ticket'\n",
    "    elif speeding > 60:\n",
    "        return 'Small Ticket'\n",
    "    else:\n",
    "        return 'No Ticket'"
   ]
  },
  {
   "cell_type": "code",
   "execution_count": 15,
   "id": "cbfe80ec",
   "metadata": {},
   "outputs": [
    {
     "data": {
      "text/plain": [
       "'Big Ticket'"
      ]
     },
     "execution_count": 15,
     "metadata": {},
     "output_type": "execute_result"
    }
   ],
   "source": [
    "caught_speeding(86,True)"
   ]
  },
  {
   "cell_type": "code",
   "execution_count": 16,
   "id": "78a6747f",
   "metadata": {},
   "outputs": [
    {
     "data": {
      "text/plain": [
       "'Small Ticket'"
      ]
     },
     "execution_count": 16,
     "metadata": {},
     "output_type": "execute_result"
    }
   ],
   "source": [
    "caught_speeding(85,True)"
   ]
  },
  {
   "cell_type": "markdown",
   "id": "f53161ac",
   "metadata": {},
   "source": [
    "# Create an employee list with basic salary values(at least 5 values for 5 employees) and using a for loop retreive each employee salary and calculate total salary expenditure."
   ]
  },
  {
   "cell_type": "code",
   "execution_count": 17,
   "id": "d751bbaa",
   "metadata": {},
   "outputs": [
    {
     "name": "stdout",
     "output_type": "stream",
     "text": [
      "1500\n"
     ]
    }
   ],
   "source": [
    "salary=[100,200,300,400,500]\n",
    "print(sum(salary))"
   ]
  },
  {
   "cell_type": "markdown",
   "id": "a9e74927",
   "metadata": {},
   "source": [
    "# Create two dictionaries in Python:\n",
    "\n",
    "First one to contain fields as Empid, Empname, Basicpay\n",
    "\n",
    "Second dictionary to contain fields as DeptName, DeptId.\n",
    "\n",
    "Combine both dictionaries."
   ]
  },
  {
   "cell_type": "code",
   "execution_count": 18,
   "id": "b5a20111",
   "metadata": {},
   "outputs": [
    {
     "data": {
      "text/plain": [
       "{'Empid': 101,\n",
       " 'Empname': 'Puja',\n",
       " 'Basicpay': 100,\n",
       " 'DeptName': 'NLP',\n",
       " 'DeptId': '56'}"
      ]
     },
     "execution_count": 18,
     "metadata": {},
     "output_type": "execute_result"
    }
   ],
   "source": [
    "dict1={'Empid':101,'Empname':'Puja','Basicpay':100}\n",
    "dict2={'DeptName':'NLP','DeptId':'56'}\n",
    "dict1.update(dict2)\n",
    "dict1"
   ]
  },
  {
   "cell_type": "code",
   "execution_count": null,
   "id": "2979a48c",
   "metadata": {},
   "outputs": [],
   "source": []
  }
 ],
 "metadata": {
  "kernelspec": {
   "display_name": "Python 3",
   "language": "python",
   "name": "python3"
  },
  "language_info": {
   "codemirror_mode": {
    "name": "ipython",
    "version": 3
   },
   "file_extension": ".py",
   "mimetype": "text/x-python",
   "name": "python",
   "nbconvert_exporter": "python",
   "pygments_lexer": "ipython3",
   "version": "3.8.8"
  }
 },
 "nbformat": 4,
 "nbformat_minor": 5
}
